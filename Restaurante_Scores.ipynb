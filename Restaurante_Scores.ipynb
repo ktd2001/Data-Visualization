{
 "cells": [
  {
   "cell_type": "code",
   "execution_count": null,
   "metadata": {},
   "outputs": [],
   "source": [
    "import pickle"
   ]
  },
  {
   "cell_type": "code",
   "execution_count": 1,
   "metadata": {},
   "outputs": [],
   "source": [
    "# Import Modules #########################################################\n",
    "import dash\n",
    "import dash_table\n",
    "import dash_core_components as dcc\n",
    "import dash_html_components as html\n",
    "import pandas as pd\n",
    "import plotly.graph_objs as go\n",
    "#import config\n",
    "from   datetime import timedelta\n",
    "from   datetime import datetime as dt\n",
    "from   dash.dependencies import Input, Output, State"
   ]
  },
  {
   "cell_type": "code",
   "execution_count": 14,
   "metadata": {},
   "outputs": [
    {
     "name": "stdout",
     "output_type": "stream",
     "text": [
      "Initializing Dash and Loading Dataset...\n"
     ]
    }
   ],
   "source": [
    "# Pre-Startup ############################################################\n",
    "print(\"Initializing Dash and Loading Dataset...\")\n",
    "app = dash.Dash(__name__)\n",
    "app.config['suppress_callback_exceptions'] = True"
   ]
  },
  {
   "cell_type": "code",
   "execution_count": 3,
   "metadata": {},
   "outputs": [],
   "source": [
    "mapbox_access_token = \"pk.eyJ1Ijoia3RkMjAwMSIsImEiOiJjanUwZzBkZWYxYWdyNDRtcTB3M3Rqb2w2In0.HC_MMaor7bWiJEu7Ytp7pA\"\n",
    "map_data = df = pd.read_csv(\"20restuarnte.dat\",parse_dates=True)\n",
    "#df.head(10)\n"
   ]
  },
  {
   "cell_type": "code",
   "execution_count": 4,
   "metadata": {},
   "outputs": [],
   "source": [
    "df[\"inspection_date\"] = df[\"inspection_date\"].str.replace('12:00:00 AM',' ')\n",
    "#df[\"inspection_date\"].head(10)"
   ]
  },
  {
   "cell_type": "code",
   "execution_count": 5,
   "metadata": {},
   "outputs": [
    {
     "name": "stdout",
     "output_type": "stream",
     "text": [
      "<class 'pandas.core.frame.DataFrame'>\n",
      "RangeIndex: 19 entries, 0 to 18\n",
      "Data columns (total 17 columns):\n",
      "business_id              19 non-null int64\n",
      "business_name            19 non-null object\n",
      "business_address         19 non-null object\n",
      "business_city            19 non-null object\n",
      "business_state           19 non-null object\n",
      "business_postal_code     19 non-null int64\n",
      "business_latitude        12 non-null float64\n",
      "business_longitude       12 non-null float64\n",
      "business_location        12 non-null object\n",
      "business_phone_number    5 non-null float64\n",
      "inspection_id            19 non-null object\n",
      "inspection_date          19 non-null object\n",
      "inspection_score         13 non-null float64\n",
      "inspection_type          19 non-null object\n",
      "violation_id             16 non-null object\n",
      "violation_description    16 non-null object\n",
      "risk_category            16 non-null object\n",
      "dtypes: float64(4), int64(2), object(11)\n",
      "memory usage: 2.6+ KB\n"
     ]
    }
   ],
   "source": [
    "df.info()"
   ]
  },
  {
   "cell_type": "code",
   "execution_count": 6,
   "metadata": {},
   "outputs": [
    {
     "name": "stdout",
     "output_type": "stream",
     "text": [
      "['Complaint', 'Routine - Unscheduled', 'Reinspection/Followup', 'New Ownership']\n",
      "    \n",
      "['High Risk', 'Low Risk', 'Moderate Risk']\n",
      "    \n",
      "[92.0, 86.0, 84.0, 71.0, 93.0, 77.0, 72.0, 98.0, 81.0, 100.0]\n"
     ]
    }
   ],
   "source": [
    "df.isna()\n",
    "unique_inspection_type_list       = df['inspection_type'].dropna().unique().tolist()\n",
    "unique_risk_category_list         = df['risk_category'].dropna().unique().tolist()\n",
    "unique_inspection_score_list      = df['inspection_score'].dropna().unique().tolist()\n",
    "\n",
    "print(unique_inspection_type_list)\n",
    "print('    ')\n",
    "print(unique_risk_category_list)\n",
    "print('    ')\n",
    "print(unique_inspection_score_list)"
   ]
  },
  {
   "cell_type": "code",
   "execution_count": 7,
   "metadata": {},
   "outputs": [
    {
     "name": "stdout",
     "output_type": "stream",
     "text": [
      "12/07/2017  \n",
      "12/07/2017  \n",
      "01/28/2019  \n"
     ]
    }
   ],
   "source": [
    "start_date       = df['inspection_date'].max()\n",
    "print(start_date)\n",
    "end_date         = df['inspection_date'].max()\n",
    "print(end_date)\n",
    "min_date_allowed = df['inspection_date'].min()\n",
    "print(min_date_allowed)"
   ]
  },
  {
   "cell_type": "code",
   "execution_count": 8,
   "metadata": {},
   "outputs": [
    {
     "name": "stdout",
     "output_type": "stream",
     "text": [
      "Declaring Data Driven Widgets...\n"
     ]
    }
   ],
   "source": [
    "# Data Driven Widgets Initial Declarations ###############################\n",
    "print(\"Declaring Data Driven Widgets...\")\n",
    "htmlh3_top_info                = html.H3('San Fransico Resturante Inspection Analysis')\n",
    "dropdown_map_marker_color      = dcc.Dropdown(\n",
    "                                    id =  \"DROPDOWN_MAP_MARKER_COLOR\",\n",
    "                                    options = [\n",
    "                                        { 'label': \"Risk Category\",    'value': 'risk_category' },\n",
    "                                        { 'label': \"Inspection Score\", 'value': 'inspection_score' },\n",
    "                                        { 'label': \"Zip Code\",         'value': 'busines_postal_code' }\n",
    "                                    ],\n",
    "                                    value = \"Risk Category\"\n",
    "                                )\n",
    "scattermapbox_the_map          = dcc.Graph(id=\"SCATTERMAPBOX_THE_MAP\", config = { 'scrollZoom': True })\n",
    "datepickerrange_inspected      = dcc.DatePickerRange(\n",
    "                                     id               = \"DATEPICKERRANGE_INSPECTED\",\n",
    "                                     start_date       = df['inspection_date'].max(),\n",
    "                                     end_date         = df['inspection_date'].max(),\n",
    "                                     min_date_allowed = df['inspection_date'].min()\n",
    "                               )\n",
    "htmlh4_latitude                = html.H4(id=\"HTMLH4_LATITUDE\")\n",
    "rangeslider_latitude           = dcc.RangeSlider(\n",
    "                                    id=\"RANGESLIDER_LATITUDE\",\n",
    "                                    min   = df['business_latitude'].min(),\n",
    "                                    max   = df['business_latitude'].max(),\n",
    "                                    value = [ df['business_latitude'].min(), df['business_latitude'].max() ]\n",
    "                               )\n",
    "\n",
    "htmlh4_longitude               = html.H4(id=\"HTMLH4_LONGITUDE\")\n",
    "rangeslider_longitude          = dcc.RangeSlider(\n",
    "                                    id=\"RANGESLIDER_LONGITUDE\",\n",
    "                                    min   = df['business_longitude'].min(),\n",
    "                                    max   = df['business_longitude'].max(),\n",
    "                                    value = [ df['business_longitude'].min(), df['business_longitude'].max() ]\n",
    "                               )\n",
    "\n",
    "htmlh4_zip_code                = html.H4(id=\"HTMLH4_ZIP_CODE\")\n",
    "rangeslider_zip_code           = dcc.RangeSlider(\n",
    "                                    id=\"RANGESLIDER_ZIP_CODE\",\n",
    "                                    min   = df['business_postal_code'].min(),\n",
    "                                    max   = df['business_postal_code'].max(),\n",
    "                                    value = [ df['business_postal_code'].min(), df['business_postal_code'].max() ]\n",
    "                               )\n",
    "\n",
    "htmlh4_inspection_score        = html.H4(id=\"HTMLH4_INSPECTION_SCORE\")\n",
    "rangeslider_inspection_score   = dcc.RangeSlider(\n",
    "                                    id=\"RANGESLIDER_INSPECTION_SCORE\",\n",
    "                                    min   = df['inspection_score'].min(),\n",
    "                                    max   = df['inspection_score'].max(),\n",
    "                                    value = [ df['inspection_score'].min(), df['inspection_score'].max() ]\n",
    "                               )\n",
    "checklist_inspection_type       = dcc.Checklist(\n",
    "                                    id=\"CHECKLIST_INSPECTION_TYPE\",     \n",
    "                                    options = [{'label': i, 'value': i} for i in sorted(unique_inspection_type_list)],     \n",
    "                                    values = unique_inspection_type_list)\n",
    "checklist_risk_category         = dcc.Checklist(\n",
    "                                    id=\"CHECKLIST_RISK_CATEGORY\", \n",
    "                                    options = [{'label': i, 'value': i} for i in sorted(unique_risk_category_list)], \n",
    "                                    values = unique_risk_category_list)"
   ]
  },
  {
   "cell_type": "code",
   "execution_count": 9,
   "metadata": {},
   "outputs": [
    {
     "name": "stdout",
     "output_type": "stream",
     "text": [
      "Declaring Which Input Widgets Trigger Display Updates\n"
     ]
    }
   ],
   "source": [
    "# GUI Input Dependencies #################################################\n",
    "print(\"Declaring Which Input Widgets Trigger Display Updates\")\n",
    "inputs_which_trigger_updates = [\n",
    "    Input(\"DATEPICKERRANGE_INSPECTED\", \"start_date\"),\n",
    "    Input(\"DATEPICKERRANGE_INSPECTED\", \"end_date\"),\n",
    " \n",
    "    Input(\"RANGESLIDER_ZIP_CODE\", \"value\"),\n",
    "    Input(\"RANGESLIDER_LATITUDE\", \"value\"),\n",
    "    Input(\"RANGESLIDER_LONGITUDE\", \"value\"),\n",
    " \n",
    "    Input(\"CHECKLIST_INSPECTION_TYPE\", \"values\"),\n",
    "    Input(\"CHECKLIST_RISK_CATEGORY\", \"values\"),\n",
    "    Input(\"RANGESLIDER_INSPECTION_SCORE\", \"value\")\n",
    "]"
   ]
  },
  {
   "cell_type": "code",
   "execution_count": 10,
   "metadata": {},
   "outputs": [
    {
     "name": "stdout",
     "output_type": "stream",
     "text": [
      "Declaring Application Layout...\n"
     ]
    }
   ],
   "source": [
    "# Layout #################################################################\n",
    "print(\"Declaring Application Layout...\")\n",
    "app.layout = html.Div([\n",
    "    html.Div([htmlh3_top_info, dropdown_map_marker_color], id = 'TOP_INFO'),\n",
    " \n",
    "    html.Div([\n",
    "        html.Div([\n",
    "            scattermapbox_the_map\n",
    "        ], id=\"MAP_CONTAINER\")\n",
    "    ], id='VISUAL_VIEWS_CONTAINER'),\n",
    " \n",
    "    html.Div([\n",
    "      html.H2(\"When\"),\n",
    "      html.Div([\n",
    "          html.H4(\"Inspection Date: \"), datepickerrange_inspected\n",
    "      ], id=\"WHEN_CONTAINER\"),\n",
    " \n",
    "      html.H2(\"Where\"),\n",
    "      html.Div([\n",
    "          htmlh4_zip_code,  rangeslider_zip_code,\n",
    "          htmlh4_latitude,  rangeslider_latitude,\n",
    "          htmlh4_longitude, rangeslider_longitude\n",
    "      ], id=\"WHERE_CONTAINER\"),\n",
    " \n",
    "      html.H2(\"Violation\"),\n",
    "      html.Div([\n",
    "          html.H4(\"Inspection Type: \"), checklist_inspection_type,\n",
    "          html.H4(\"Risk Category: \"), checklist_risk_category,\n",
    "          htmlh4_inspection_score, rangeslider_inspection_score\n",
    "      ], id=\"VIOLATION_CONTAINER\")\n",
    "    ], id='FILTER_INPUTS_CONTAINER')\n",
    "], id=\"MAIN_CONTAINER\")\n"
   ]
  },
  {
   "cell_type": "code",
   "execution_count": 11,
   "metadata": {},
   "outputs": [
    {
     "name": "stdout",
     "output_type": "stream",
     "text": [
      "Running on http://127.0.0.1:8050/\n",
      "Debugger PIN: 913-556-543\n"
     ]
    },
    {
     "ename": "SystemExit",
     "evalue": "1",
     "output_type": "error",
     "traceback": [
      "An exception has occurred, use %tb to see the full traceback.\n",
      "\u001b[0;31mSystemExit\u001b[0m\u001b[0;31m:\u001b[0m 1\n"
     ]
    },
    {
     "name": "stderr",
     "output_type": "stream",
     "text": [
      "/home/ktd2001/anaconda3/lib/python3.6/site-packages/IPython/core/interactiveshell.py:2971: UserWarning:\n",
      "\n",
      "To exit: use 'exit', 'quit', or Ctrl-D.\n",
      "\n"
     ]
    }
   ],
   "source": [
    "# UI Callbacks ###########################################################\n",
    "@app.callback(Output(\"HTMLH4_ZIP_CODE\", \"children\"), [ Input(\"RANGESLIDER_ZIP_CODE\", \"value\") ])\n",
    "def update_zip_code_label(selected_range):\n",
    "    return \"Zip Code: %d to %d\" % (selected_range[0], selected_range[1])\n",
    " \n",
    "@app.callback(Output(\"HTMLH4_LATITUDE\", \"children\"), [ Input(\"RANGESLIDER_LATITUDE\", \"value\") ])\n",
    "def update_latitude_label(selected_range):\n",
    "    return \"Latitude: From %.4f to %.4f\" % (selected_range[0], selected_range[1])\n",
    " \n",
    "@app.callback(Output(\"HTMLH4_LONGITUDE\", \"children\"), [ Input(\"RANGESLIDER_LONGITUDE\", \"value\") ])\n",
    "def update_longitude_label(selected_range):\n",
    "    return \"Longitude: From %.4f to %.4f\" % (selected_range[0], selected_range[1])\n",
    " \n",
    "@app.callback(Output(\"HTMLH4_INSPECTION_SCORE\", \"children\"), [ Input(\"RANGESLIDER_INSPECTION_SCORE\", \"value\") ])\n",
    "def update_inspection_score_label(selected_range):\n",
    "    return \"Inspection Score: From %d to %d\" % (selected_range[0], selected_range[1])\n",
    " \n",
    "@app.callback(Output(\"SCATTERMAPBOX_THE_MAP\", \"figure\"), [\n",
    "    Input(\"DROPDOWN_MAP_MARKER_COLOR\", \"value\"),\n",
    "    Input(\"DATEPICKERRANGE_INSPECTED\", \"start_date\"),\n",
    "    Input(\"DATEPICKERRANGE_INSPECTED\", \"end_date\"),\n",
    " \n",
    "    Input(\"RANGESLIDER_ZIP_CODE\", \"value\"),\n",
    "    Input(\"RANGESLIDER_LATITUDE\",  \"value\"),\n",
    "    Input(\"RANGESLIDER_LONGITUDE\", \"value\"),\n",
    " \n",
    "    Input(\"CHECKLIST_INSPECTION_TYPE\", \"values\"),\n",
    "    Input(\"CHECKLIST_RISK_CATEGORY\", \"values\"),\n",
    "    Input(\"RANGESLIDER_INSPECTION_SCORE\", \"value\")\n",
    "])\n",
    "def when_triggers_update_scattermapbox(\n",
    "    map_marker_color,\n",
    "    inspected_start_date,\n",
    "    inspected_end_date,\n",
    "    zip_code_range,\n",
    "    latitude_range,\n",
    "    longitude_range,\n",
    "    violation_inspection_type,\n",
    "    violation_risk_category,\n",
    "    violation_inspection_score\n",
    "):\n",
    "    print(map_marker_color)\n",
    "    sf = df[\n",
    "        (df['Inspected Date'].between(pd.to_datetime(start_date), pd.to_datetime(end_date), inclusive = True))\n",
    "        &\n",
    "        (df['Zip Code'].between(zip_code_range[0], zip_code_range[1], inclusive=True))\n",
    "        &\n",
    "        (df['Latitude'].between(latitude_range[0], latitude_range[1], inclusive=True))\n",
    "        &\n",
    "        (df['Longitude'].between(longitude_range[0], longitude_range[1], inclusive=True))\n",
    "        &\n",
    "        (df['Violation Score'].between(victim_age_range[0], victim_age_range[1], inclusive=True))\n",
    "        &\n",
    "        (df['Violation Inspection Type'].isin(violation_inspection_type))\n",
    "        &\n",
    "        (df['Violation Risk Category'].isin(violation_risk_category))\n",
    "        &\n",
    "        (~df[\"business_name\"].isnull())\n",
    "        &\n",
    "        (~df[\"business_address\"].isnull())\n",
    "        &\n",
    "        (~df[\"violation_description\"].isnull())\n",
    "    ]\n",
    "    marker_label = generate_marker_labels(sf)\n",
    " \n",
    "    map_marker_views = {\n",
    "        'Inspection Date': {\n",
    "            'colorscale': [\n",
    "                [ 0.0, 'rgb(0, 0, 0)'     ],\n",
    "                [ 0.1, 'rgb(128, 64, 0)' ],\n",
    "                [ 0.3, 'rgb(255, 255, 0)' ],\n",
    "                [ 0.5, 'rgb(0, 0, 255)'   ],\n",
    "                [ 0.7, 'rgb(255, 128, 0)' ],\n",
    "                [ 0.9, 'rgb(128, 64, 0)' ],\n",
    "                [ 1.0, 'rgb(0, 0, 0)'     ]\n",
    "            ],\n",
    "            'cmin': 2359,\n",
    "            'cmax': 0,\n",
    "            'nticks': 24\n",
    "        },\n",
    " \n",
    "        'Inspection Score': {\n",
    "            'colorscale': 'Viridis',\n",
    "            'cmin': sf['Inspection Score'].min(),\n",
    "            'cmax': sf['Inspection Score'].max(),\n",
    "            'nticks': 30\n",
    "        }\n",
    "    }\n",
    " \n",
    "    return go.Figure(\n",
    "        data = [\n",
    "            go.Scattermapbox(\n",
    "                lat  = sf.Latitude,\n",
    "                lon  = sf.Longitude,\n",
    "                mode = 'markers',\n",
    "                marker = go.scattermapbox.Marker(\n",
    "                    size = 6,\n",
    "                    color = sf[map_marker_color],\n",
    "                    colorscale = map_marker_views[map_marker_color][\"colorscale\"],\n",
    "                    cmin       = map_marker_views[map_marker_color][\"cmin\"],\n",
    "                    cmax       = map_marker_views[map_marker_color][\"cmax\"],\n",
    "                    colorbar = dict(\n",
    "                        title  = map_marker_color,\n",
    "                        nticks = map_marker_views[map_marker_color][\"nticks\"]\n",
    "                    )\n",
    "                ),\n",
    "                text = marker_label\n",
    "            )\n",
    "        ],\n",
    " \n",
    "        layout = go.Layout(\n",
    "            height = 600,\n",
    "            mapbox = go.layout.Mapbox(\n",
    "                mapbox_access_token = config.mapbox_access_token,\n",
    "                bearing     = 0,\n",
    "                center = go.layout.mapbox.Center(\n",
    "                    lat = 37.74,\n",
    "                    lon = -122.3\n",
    "                ),\n",
    "               pitch = 45,\n",
    "               zoom = 9\n",
    "            )\n",
    "        )\n",
    "    )\n",
    " \n",
    "# Help Function ##########################################################\n",
    "def generate_marker_labels(sf):\n",
    "    marker_label  =       \"Inspection ID #: \" + sf[\"inspection_id\"].astype(str)\n",
    "    marker_label += \"<br>    Business Name: \" + sf[\"business_name\"]\n",
    "    marker_label += \"<br> Business Address: \" + sf[\"business_address\"].astype(str)\n",
    "    marker_label += \"<br> Inspection Score: \" + sf[\"inspection_score\"].astype(str)\n",
    "    marker_label += \"<br>  Inspection Type: \" + sf[\"inspection_type\"].astype(str)\n",
    "    marker_label += \"<br>        Violation: \" + sf[\"violation_description\"]\n",
    "    marker_label += \"<br>    Risk Category: \" + sf[\"risk_category\"]\n",
    " \n",
    "    return marker_label\n",
    " \n",
    "# Server Startup #########################################################\n",
    "if __name__ == \"__main__\":\n",
    "    app.run_server(debug=True)"
   ]
  },
  {
   "cell_type": "code",
   "execution_count": null,
   "metadata": {},
   "outputs": [],
   "source": []
  }
 ],
 "metadata": {
  "kernelspec": {
   "display_name": "Python 3",
   "language": "python",
   "name": "python3"
  },
  "language_info": {
   "codemirror_mode": {
    "name": "ipython",
    "version": 3
   },
   "file_extension": ".py",
   "mimetype": "text/x-python",
   "name": "python",
   "nbconvert_exporter": "python",
   "pygments_lexer": "ipython3",
   "version": "3.6.8"
  }
 },
 "nbformat": 4,
 "nbformat_minor": 2
}
